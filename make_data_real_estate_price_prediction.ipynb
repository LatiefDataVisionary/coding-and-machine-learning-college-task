{
  "nbformat": 4,
  "nbformat_minor": 0,
  "metadata": {
    "colab": {
      "provenance": [],
      "authorship_tag": "ABX9TyM4lnGaeY80Y89G2HKIu3fl",
      "include_colab_link": true
    },
    "kernelspec": {
      "name": "python3",
      "display_name": "Python 3"
    },
    "language_info": {
      "name": "python"
    }
  },
  "cells": [
    {
      "cell_type": "markdown",
      "metadata": {
        "id": "view-in-github",
        "colab_type": "text"
      },
      "source": [
        "<a href=\"https://colab.research.google.com/github/LatiefDataVisionary/coding-and-machine-learning-college-task/blob/main/make_data_real_estate_price_prediction.ipynb\" target=\"_parent\"><img src=\"https://colab.research.google.com/assets/colab-badge.svg\" alt=\"Open In Colab\"/></a>"
      ]
    },
    {
      "cell_type": "code",
      "execution_count": 13,
      "metadata": {
        "colab": {
          "base_uri": "https://localhost:8080/"
        },
        "id": "5uKuX38Y6pBq",
        "outputId": "630ae283-3315-4755-cca4-138d5e76832d"
      },
      "outputs": [
        {
          "output_type": "stream",
          "name": "stdout",
          "text": [
            "Dataset Baru:\n",
            "       No  X1 transaction date  X2 house age  \\\n",
            "0       1            2013010.0           8.0   \n",
            "1       2            2013538.0          24.0   \n",
            "2       3            2013338.0          38.0   \n",
            "3       4            2013215.0          32.0   \n",
            "4       5            2012810.0          35.0   \n",
            "..    ...                  ...           ...   \n",
            "995   996            2012751.0          29.0   \n",
            "996   997            2013507.0          42.0   \n",
            "997   998            2012792.0           3.0   \n",
            "998   999            2013537.0           2.0   \n",
            "999  1000            2013076.0          12.0   \n",
            "\n",
            "     X3 distance to the nearest MRT station  X4 number of convenience stores  \\\n",
            "0                                 7535347.0                                2   \n",
            "1                                 7505221.0                                8   \n",
            "2                                 8853840.0                                4   \n",
            "3                                 7510473.0                                7   \n",
            "4                                 7556302.0                                6   \n",
            "..                                      ...                              ...   \n",
            "995                               8770054.0                                9   \n",
            "996                               7321719.0                                3   \n",
            "997                               7633704.0                                7   \n",
            "998                               7593319.0                                9   \n",
            "999                               8782570.0                                2   \n",
            "\n",
            "     X5 latitude  X6 longitude  Y house price of unit area  \n",
            "0      2499044.0    12153594.0                      105.52  \n",
            "1      2498174.0    12150553.0                       70.19  \n",
            "2      2497570.0    12150178.0                       99.08  \n",
            "3      2490556.0    12154972.0                      116.58  \n",
            "4      2490069.0    12151164.0                       25.58  \n",
            "..           ...           ...                         ...  \n",
            "995    2491191.0    12153413.0                       69.49  \n",
            "996    2495124.0    12153144.0                      111.32  \n",
            "997    2493488.0    12151331.0                        8.02  \n",
            "998    2493748.0    12150195.0                       33.77  \n",
            "999    2496213.0    12152278.0                      110.74  \n",
            "\n",
            "[1000 rows x 8 columns]\n"
          ]
        }
      ],
      "source": [
        "import pandas as pd\n",
        "import numpy as np\n",
        "\n",
        "# Set seed untuk reproducibility\n",
        "np.random.seed(42)\n",
        "\n",
        "# Jumlah data baru yang ingin dibuat\n",
        "n_data = 1000\n",
        "\n",
        "# Membuat data baru berdasarkan rentang min, max, dan average\n",
        "data = {\n",
        "    'No': np.arange(1, n_data + 1),\n",
        "    'X1 transaction date': np.round(np.random.uniform(2012667, 2013583, n_data)),\n",
        "    'X2 house age': np.round(np.random.uniform(0, 43.800, n_data)),\n",
        "    'X3 distance to the nearest MRT station': np.round(np.random.uniform(7000000, 9045606, n_data)),\n",
        "    'X4 number of convenience stores': np.round(np.random.randint(0, 11, n_data), 2),  # 0 sampai 10\n",
        "    'X5 latitude': np.round(np.random.uniform(2490000, 2500000, n_data)),\n",
        "    'X6 longitude': np.round(np.random.uniform(12150000, 12155000, n_data)),\n",
        "    'Y house price of unit area': np.round(np.random.uniform(7.600, 117.500, n_data), 2)  # Target variabel (opsional)\n",
        "}\n",
        "\n",
        "# Membuat DataFrame dari data baru\n",
        "df_new = pd.DataFrame(data)\n",
        "\n",
        "# Menampilkan dataset baru\n",
        "print(\"Dataset Baru:\")\n",
        "print(df_new)\n",
        "\n",
        "# Simpan dataset baru ke file CSV (opsional)\n",
        "df_new.to_csv('new_real_estate_data_5.csv', index=False)"
      ]
    }
  ]
}