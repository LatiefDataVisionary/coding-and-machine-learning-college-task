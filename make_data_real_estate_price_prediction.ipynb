{
  "nbformat": 4,
  "nbformat_minor": 0,
  "metadata": {
    "colab": {
      "provenance": [],
      "authorship_tag": "ABX9TyOG08m6V+V3fLkrBQ1i5ZAh",
      "include_colab_link": true
    },
    "kernelspec": {
      "name": "python3",
      "display_name": "Python 3"
    },
    "language_info": {
      "name": "python"
    }
  },
  "cells": [
    {
      "cell_type": "markdown",
      "metadata": {
        "id": "view-in-github",
        "colab_type": "text"
      },
      "source": [
        "<a href=\"https://colab.research.google.com/github/LatiefDataVisionary/coding-and-machine-learning-college-task/blob/main/make_data_real_estate_price_prediction.ipynb\" target=\"_parent\"><img src=\"https://colab.research.google.com/assets/colab-badge.svg\" alt=\"Open In Colab\"/></a>"
      ]
    },
    {
      "cell_type": "code",
      "execution_count": 8,
      "metadata": {
        "colab": {
          "base_uri": "https://localhost:8080/"
        },
        "id": "5uKuX38Y6pBq",
        "outputId": "f2e56e24-21c7-4d70-aa27-21c3fd3d1164"
      },
      "outputs": [
        {
          "output_type": "stream",
          "name": "stdout",
          "text": [
            "Dataset Baru:\n",
            "       No  X1 transaction date  X2 house age  \\\n",
            "0       1              2013.01          8.11   \n",
            "1       2              2013.54         23.74   \n",
            "2       3              2013.34         38.24   \n",
            "3       4              2013.22         32.07   \n",
            "4       5              2012.81         35.33   \n",
            "..    ...                  ...           ...   \n",
            "995   996              2012.75         28.77   \n",
            "996   997              2013.51         41.90   \n",
            "997   998              2012.79          3.02   \n",
            "998   999              2013.54          2.50   \n",
            "999  1000              2013.08         12.36   \n",
            "\n",
            "     X3 distance to the nearest MRT station  X4 number of convenience stores  \\\n",
            "0                                   1715.22                                2   \n",
            "1                                   1620.01                                8   \n",
            "2                                   5881.99                                4   \n",
            "3                                   1636.61                                7   \n",
            "4                                   1781.44                                6   \n",
            "..                                      ...                              ...   \n",
            "995                                 5617.21                                9   \n",
            "996                                 1040.10                                3   \n",
            "997                                 2026.05                                7   \n",
            "998                                 1898.42                                9   \n",
            "999                                 5656.76                                2   \n",
            "\n",
            "     X5 latitude  X6 longitude  Y house price of unit area  \n",
            "0          25.01        121.54                      105.52  \n",
            "1          25.00        121.48                       70.19  \n",
            "2          24.99        121.48                       99.08  \n",
            "3          24.94        121.57                      116.58  \n",
            "4          24.93        121.50                       25.58  \n",
            "..           ...           ...                         ...  \n",
            "995        24.94        121.54                       69.49  \n",
            "996        24.97        121.53                      111.32  \n",
            "997        24.96        121.50                        8.02  \n",
            "998        24.96        121.48                       33.77  \n",
            "999        24.98        121.52                      110.74  \n",
            "\n",
            "[1000 rows x 8 columns]\n"
          ]
        }
      ],
      "source": [
        "import pandas as pd\n",
        "import numpy as np\n",
        "\n",
        "# Set seed untuk reproducibility\n",
        "np.random.seed(42)\n",
        "\n",
        "# Jumlah data baru yang ingin dibuat\n",
        "n_data = 1000\n",
        "\n",
        "# Membuat data baru berdasarkan rentang min, max, dan average\n",
        "data = {\n",
        "    'No': np.arange(1, n_data + 1),\n",
        "    'X1 transaction date': np.round(np.random.uniform(2012.667, 2013.583, n_data), 2),\n",
        "    'X2 house age': np.round(np.random.uniform(0, 43.800, n_data), 2),\n",
        "    'X3 distance to the nearest MRT station': np.round(np.random.uniform(23.383, 6488.021, n_data), 2),\n",
        "    'X4 number of convenience stores': np.round(np.random.randint(0, 11, n_data), 2),  # 0 sampai 10\n",
        "    'X5 latitude': np.round(np.random.uniform(24.932, 25.015, n_data), 2),\n",
        "    'X6 longitude': np.round(np.random.uniform(121.474, 121.566, n_data), 2),\n",
        "    'Y house price of unit area': np.round(np.random.uniform(7.600, 117.500, n_data), 2)  # Target variabel (opsional)\n",
        "}\n",
        "\n",
        "# Membuat DataFrame dari data baru\n",
        "df_new = pd.DataFrame(data)\n",
        "\n",
        "# Menampilkan dataset baru\n",
        "print(\"Dataset Baru:\")\n",
        "print(df_new)\n",
        "\n",
        "# Simpan dataset baru ke file CSV (opsional)\n",
        "df_new.to_csv('new_real_estate_data.csv', index=False)"
      ]
    }
  ]
}